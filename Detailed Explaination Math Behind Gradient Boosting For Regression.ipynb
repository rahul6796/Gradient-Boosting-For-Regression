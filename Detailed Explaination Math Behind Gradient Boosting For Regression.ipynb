{
 "cells": [
  {
   "cell_type": "markdown",
   "metadata": {},
   "source": [
    "# Gradient Boosting For Rregression"
   ]
  },
  {
   "cell_type": "markdown",
   "metadata": {},
   "source": [
    "# Algorithm"
   ]
  },
  {
   "cell_type": "markdown",
   "metadata": {},
   "source": [
    "$Input$: Data ${({x}_i,{y}_i)_{1}^{N}}$ and a Differentiable ${Loss-Function}$ ${L({y}_i,F({x}))}$."
   ]
  },
  {
   "cell_type": "markdown",
   "metadata": {},
   "source": [
    "${Step-[1]}$: Iinitialize model with a constant value."
   ]
  },
  {
   "cell_type": "markdown",
   "metadata": {},
   "source": [
    "\\begin{equation}\n",
    "F_{0}(x) = \\underset{\\gamma}{\\mathrm{argmin}}\\sum_{i=1}^{N}L({y}_i,{\\gamma})\n",
    "\\end{equation}"
   ]
  },
  {
   "cell_type": "markdown",
   "metadata": {},
   "source": [
    "${Step-[2]}$: for ${m=1}$ to ${M}$:"
   ]
  },
  {
   "cell_type": "markdown",
   "metadata": {},
   "source": [
    "${[A]}$ -  compute."
   ]
  },
  {
   "cell_type": "markdown",
   "metadata": {},
   "source": [
    "\\begin{equation}\n",
    "r_{im} = -[\\frac{\\partial L({y}_i,F({x}_i))}{\\partial F({x}_i)}]_{F(x) = F_{m-1}(x)}\n",
    "\\end{equation}"
   ]
  },
  {
   "cell_type": "markdown",
   "metadata": {},
   "source": [
    "${[B]}-$ fit a Regression tree to the ${r_{im}}$ values and create terminal regions ${R_{jm}}$, for ${j}$=${1.....j_{m}}$."
   ]
  },
  {
   "cell_type": "markdown",
   "metadata": {},
   "source": [
    "${[C]}$- for ${j}$ = ${1.....j_{m}}$ compute."
   ]
  },
  {
   "cell_type": "markdown",
   "metadata": {},
   "source": [
    "\\begin{equation}\n",
    "{\\gamma} = \\underset{\\gamma}{\\mathrm{argmin}}\\sum_{x_{i}\\in{R_{ij}}}L({y}_i,F_{m-1}({x}_i) + {\\gamma})\n",
    "\\end{equation}"
   ]
  },
  {
   "cell_type": "markdown",
   "metadata": {},
   "source": [
    "${[D]}$ - Update."
   ]
  },
  {
   "cell_type": "markdown",
   "metadata": {},
   "source": [
    "\\begin{equation}\n",
    "F_{m}(x) = F_{m-1}(x) + {\\mu}\\sum_{j=1}^{j_{m}}{\\gamma_{m}}I(x\\in{R_{jm}})\n",
    "\\end{equation}"
   ]
  },
  {
   "cell_type": "markdown",
   "metadata": {},
   "source": [
    "${Step}$ - Output ${F_{m}(x)}$."
   ]
  },
  {
   "cell_type": "markdown",
   "metadata": {},
   "source": [
    "# Let's start from the ${Input}$:"
   ]
  },
  {
   "cell_type": "markdown",
   "metadata": {},
   "source": [
    "$Data$ ${({x}_i,{y}_i)_{i=1}^N}$, This is Describes in an abstract way the $Training Dataset$,and the method we will use to evaluate how will the $Model$ fits the $Training Dataset$."
   ]
  },
  {
   "cell_type": "markdown",
   "metadata": {},
   "source": [
    "now here we creating small sample dataset for explaining detailed math of this algorithm."
   ]
  },
  {
   "cell_type": "code",
   "execution_count": 1,
   "metadata": {},
   "outputs": [],
   "source": [
    "import pandas as pd"
   ]
  },
  {
   "cell_type": "code",
   "execution_count": 3,
   "metadata": {},
   "outputs": [],
   "source": [
    "data = pd.DataFrame()"
   ]
  },
  {
   "cell_type": "code",
   "execution_count": 5,
   "metadata": {},
   "outputs": [],
   "source": [
    "data['Height (m)'] = [1.6,1.6,1.5]"
   ]
  },
  {
   "cell_type": "code",
   "execution_count": 7,
   "metadata": {},
   "outputs": [],
   "source": [
    "data['Favorite Color'] = ['Blue','Green','Blue']"
   ]
  },
  {
   "cell_type": "code",
   "execution_count": 8,
   "metadata": {},
   "outputs": [],
   "source": [
    "data['Gender'] = ['Male','Female','Female']"
   ]
  },
  {
   "cell_type": "code",
   "execution_count": 9,
   "metadata": {},
   "outputs": [],
   "source": [
    "data['Weight (kg)'] = [88,76,56]"
   ]
  },
  {
   "cell_type": "code",
   "execution_count": 10,
   "metadata": {},
   "outputs": [
    {
     "data": {
      "text/html": [
       "<div>\n",
       "<style scoped>\n",
       "    .dataframe tbody tr th:only-of-type {\n",
       "        vertical-align: middle;\n",
       "    }\n",
       "\n",
       "    .dataframe tbody tr th {\n",
       "        vertical-align: top;\n",
       "    }\n",
       "\n",
       "    .dataframe thead th {\n",
       "        text-align: right;\n",
       "    }\n",
       "</style>\n",
       "<table border=\"1\" class=\"dataframe\">\n",
       "  <thead>\n",
       "    <tr style=\"text-align: right;\">\n",
       "      <th></th>\n",
       "      <th>Height (m)</th>\n",
       "      <th>Favorite Color</th>\n",
       "      <th>Gender</th>\n",
       "      <th>Weight (kg)</th>\n",
       "    </tr>\n",
       "  </thead>\n",
       "  <tbody>\n",
       "    <tr>\n",
       "      <th>0</th>\n",
       "      <td>1.6</td>\n",
       "      <td>Blue</td>\n",
       "      <td>Male</td>\n",
       "      <td>88</td>\n",
       "    </tr>\n",
       "    <tr>\n",
       "      <th>1</th>\n",
       "      <td>1.6</td>\n",
       "      <td>Green</td>\n",
       "      <td>Female</td>\n",
       "      <td>76</td>\n",
       "    </tr>\n",
       "    <tr>\n",
       "      <th>2</th>\n",
       "      <td>1.5</td>\n",
       "      <td>Blue</td>\n",
       "      <td>Female</td>\n",
       "      <td>56</td>\n",
       "    </tr>\n",
       "  </tbody>\n",
       "</table>\n",
       "</div>"
      ],
      "text/plain": [
       "   Height (m) Favorite Color  Gender  Weight (kg)\n",
       "0         1.6           Blue    Male           88\n",
       "1         1.6          Green  Female           76\n",
       "2         1.5           Blue  Female           56"
      ]
     },
     "execution_count": 10,
     "metadata": {},
     "output_type": "execute_result"
    }
   ],
   "source": [
    "data.head()"
   ]
  },
  {
   "cell_type": "markdown",
   "metadata": {},
   "source": [
    "${x}_i$ is refer to each row of measurement that we will use to predict ${Weight}$."
   ]
  },
  {
   "cell_type": "markdown",
   "metadata": {},
   "source": [
    "and the  ${y}_i$  refer to the ${Weight}$ measurement for each person in the dataset."
   ]
  },
  {
   "cell_type": "markdown",
   "metadata": {},
   "source": [
    "and ${i=1}$ to N , this part just says that the ${i}$ in ${x_i}$ and ${y_i}$  go from $1$ to $N$  is the number of people in our dataset."
   ]
  },
  {
   "cell_type": "markdown",
   "metadata": {},
   "source": [
    "in this case ${N=3}$ since we only have three rows of data."
   ]
  },
  {
   "cell_type": "markdown",
   "metadata": {},
   "source": [
    "and a differenciable ${Loss Function}$ ${L({y}_i,F(x))}$."
   ]
  },
  {
   "cell_type": "markdown",
   "metadata": {},
   "source": [
    "in this case a $Loss Function$ is just somthing that evaluates how well we can predict $Weight$."
   ]
  },
  {
   "cell_type": "markdown",
   "metadata": {},
   "source": [
    "The $Loss Function$ that is Most commonly used when doing $Regression$ with $Gradient Boost$ is"
   ]
  },
  {
   "cell_type": "markdown",
   "metadata": {},
   "source": [
    "\\begin{equation}\n",
    "\\frac{1}{2}(observed-Predicted)^{2}\n",
    "\\end{equation}"
   ]
  },
  {
   "cell_type": "markdown",
   "metadata": {},
   "source": [
    "Residual are differences between $observed$ $Weights$   and $Predicted$ $Weights$."
   ]
  },
  {
   "cell_type": "markdown",
   "metadata": {},
   "source": [
    "Thus the $Loss$ $Function$ or just a squared $Residual$ "
   ]
  },
  {
   "cell_type": "markdown",
   "metadata": {},
   "source": [
    "\\begin{equation}\n",
    "(observed -Predicted)^{2}\n",
    "\\end{equation}"
   ]
  },
  {
   "cell_type": "markdown",
   "metadata": {},
   "source": [
    "$Explaination$"
   ]
  },
  {
   "cell_type": "markdown",
   "metadata": {},
   "source": [
    "\\begin{equation}\n",
    "\\frac{1}{2}(observed-Predicted)^2\n",
    "\\end{equation}"
   ]
  },
  {
   "cell_type": "markdown",
   "metadata": {},
   "source": [
    "Now just for a few minutes igonre the ${\\frac{1}{2}}$ in front."
   ]
  },
  {
   "cell_type": "markdown",
   "metadata": {},
   "source": [
    "when we remove the $\\frac{1}{2}$ we end up with the same $Loss$ $Function$ we used for $Linear$ $Regression$."
   ]
  },
  {
   "cell_type": "code",
   "execution_count": 15,
   "metadata": {},
   "outputs": [],
   "source": [
    "import matplotlib.pyplot as plt"
   ]
  },
  {
   "cell_type": "code",
   "execution_count": 29,
   "metadata": {},
   "outputs": [
    {
     "data": {
      "image/png": "[encoded data removed]",
      "text/plain": [
       "<Figure size 432x288 with 1 Axes>"
      ]
     },
     "metadata": {
      "needs_background": "light"
     },
     "output_type": "display_data"
    }
   ],
   "source": [
    "plt.scatter(data['Height (m)'],data['Weight (kg)'])\n",
    "plt.xlabel('Height (m)')\n",
    "plt.ylabel('Weight (Kg)')\n",
    "plt.show()"
   ]
  },
  {
   "cell_type": "markdown",
   "metadata": {},
   "source": [
    "$Residual$ are the differences between the $observed$ $Weights$ and  the $Weights$ that are predicted by  the line"
   ]
  },
  {
   "cell_type": "markdown",
   "metadata": {},
   "source": [
    "we can evaluate how well this Green Line fits the Data with the sum of the squared $Residual$."
   ]
  },
  {
   "cell_type": "markdown",
   "metadata": {},
   "source": [
    "Thus the $Loss$ $Function$ is just squared $Residual$."
   ]
  },
  {
   "cell_type": "markdown",
   "metadata": {},
   "source": [
    "\\begin{equation}\n",
    "(observed - Predicted)^2\n",
    "\\end{equation}"
   ]
  },
  {
   "cell_type": "markdown",
   "metadata": {},
   "source": [
    "if we wanted to compare how well this $Green$ $Line$ fit the Data to this $Pink$ $Line$."
   ]
  },
  {
   "cell_type": "markdown",
   "metadata": {},
   "source": [
    "then we  would calculate the $Residual$ the difference between the $observed$ and $predicted$ values for the Green Line."
   ]
  },
  {
   "cell_type": "markdown",
   "metadata": {},
   "source": [
    "$Residual$ $are$\n",
    "\\begin{equation}\n",
    "(0.1) , (-0.4), (0.3)\n",
    "\\end{equation}"
   ]
  },
  {
   "cell_type": "markdown",
   "metadata": {},
   "source": [
    "$square$ then\n",
    "\\begin{equation}\n",
    "(0.1)^{2} ,(-0.4)^{2},(0.3)^{2}\n",
    "\\end{equation}"
   ]
  },
  {
   "cell_type": "markdown",
   "metadata": {},
   "source": [
    "$Add$\n",
    "\\begin{equation}\n",
    "(0.1)^2 + (-0.4)^2 + (0.3)^2 = 0.26\n",
    "\\end{equation}"
   ]
  },
  {
   "cell_type": "markdown",
   "metadata": {},
   "source": [
    "for $sum$ $of$ $the$ $squared$ $Residual$ for the Green line."
   ]
  },
  {
   "cell_type": "markdown",
   "metadata": {},
   "source": [
    "Then we do same thinks for Pink Line. "
   ]
  },
  {
   "cell_type": "markdown",
   "metadata": {},
   "source": [
    "\\begin{equation}\n",
    "(1.1)^2 + (0.9)^2 + (2.1)^2 = 6.43\n",
    "\\end{equation}"
   ]
  },
  {
   "cell_type": "markdown",
   "metadata": {},
   "source": [
    "you can see that the $0.26$ of the Green Line is smaller than the Pink Line $6.43$."
   ]
  },
  {
   "cell_type": "markdown",
   "metadata": {},
   "source": [
    "so the Green Line is a better fit because the $sum$ $of$ $the$ $squared$ $Residual$ is smaller than Pink Line."
   ]
  },
  {
   "cell_type": "markdown",
   "metadata": {},
   "source": [
    "$Note$.-> if we Multiply  Both side by $\\frac{1}{2}$ "
   ]
  },
  {
   "cell_type": "markdown",
   "metadata": {},
   "source": [
    "\\begin{equation}\n",
    "\\frac{1}{2}[(0.1)^2 + (-0.4)^2 + (0.3)^2] = \\frac{1}{2}[0.26] = 0.13\n",
    "\\end{equation}"
   ]
  },
  {
   "cell_type": "markdown",
   "metadata": {},
   "source": [
    "\\begin{equation}\n",
    "\\frac{1}{2}[(1.1)^2 + (0.9)^2 + (2.1)^2] = \\frac{1}{2}[6.43] = 3.21\n",
    "\\end{equation}"
   ]
  },
  {
   "cell_type": "markdown",
   "metadata": {},
   "source": [
    "but we would still know that the Green Line fits the Data better since it's Number  is still relatively smaller."
   ]
  },
  {
   "cell_type": "markdown",
   "metadata": {},
   "source": [
    "in other word's if does not matter if the $Loss$ $Function$ is ."
   ]
  },
  {
   "cell_type": "markdown",
   "metadata": {},
   "source": [
    "\\begin{equation}\n",
    "(observed - Predicted)^2\n",
    "\\end{equation}"
   ]
  },
  {
   "cell_type": "markdown",
   "metadata": {},
   "source": [
    "of if it's."
   ]
  },
  {
   "cell_type": "markdown",
   "metadata": {},
   "source": [
    "\\begin{equation}\n",
    "\\frac{1}{2}(observed - predicted)^2\n",
    "\\end{equation}"
   ]
  },
  {
   "cell_type": "markdown",
   "metadata": {},
   "source": [
    "sices both will tell that the Green Line has Best fit."
   ]
  },
  {
   "cell_type": "markdown",
   "metadata": {},
   "source": [
    "The Reasone why people choose this $Loss$ $ Function$ for $Gradient$ $Boost$ is that when we differenciate it with respect to $Predicted$."
   ]
  },
  {
   "cell_type": "markdown",
   "metadata": {},
   "source": [
    "\\begin{equation}\n",
    "\\frac{\\partial}{\\partial Predicted}\\frac{1}{2}(observed - Predicted)^2\n",
    "\\end{equation}"
   ]
  },
  {
   "cell_type": "markdown",
   "metadata": {},
   "source": [
    "\\begin{equation}\n",
    "=\\frac{2}{2}(observed-Predicted)\n",
    "\\end{equation}"
   ]
  },
  {
   "cell_type": "markdown",
   "metadata": {},
   "source": [
    "\\begin{equation}\n",
    "=-(observed - Predicted)\n",
    "\\end{equation}"
   ]
  },
  {
   "cell_type": "markdown",
   "metadata": {},
   "source": [
    "and that leaves you with the observed minus the Predicted Multiply by $(-1)$."
   ]
  },
  {
   "cell_type": "markdown",
   "metadata": {},
   "source": [
    "we have got a $Loss$ $Function$."
   ]
  },
  {
   "cell_type": "markdown",
   "metadata": {},
   "source": [
    "\\begin{equation}\n",
    "\\frac{1}{2}(observed - Predicted)^2\n",
    "\\end{equation}"
   ]
  },
  {
   "cell_type": "markdown",
   "metadata": {},
   "source": [
    "the ${y_i}$ are the observed value and $F(x)$ is a function that gives us the predicted values."
   ]
  },
  {
   "cell_type": "markdown",
   "metadata": {},
   "source": [
    "# Step-[1]"
   ]
  },
  {
   "cell_type": "code",
   "execution_count": null,
   "metadata": {},
   "outputs": [],
   "source": []
  }
 ],
 "metadata": {
  "kernelspec": {
   "display_name": "Python 3",
   "language": "python",
   "name": "python3"
  },
  "language_info": {
   "codemirror_mode": {
    "name": "ipython",
    "version": 3
   },
   "file_extension": ".py",
   "mimetype": "text/x-python",
   "name": "python",
   "nbconvert_exporter": "python",
   "pygments_lexer": "ipython3",
   "version": "3.7.3"
  }
 },
 "nbformat": 4,
 "nbformat_minor": 2
}
