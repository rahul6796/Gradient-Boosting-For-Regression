{
 "cells": [
  {
   "cell_type": "markdown",
   "metadata": {},
   "source": [
    "# Gradient Boosting For Rregression"
   ]
  },
  {
   "cell_type": "markdown",
   "metadata": {},
   "source": [
    "# Algorithm"
   ]
  },
  {
   "cell_type": "markdown",
   "metadata": {},
   "source": [
    "$Input$: Data ${({x}_i,{y}_i)_{1}^{N}}$ and a Differentiable ${Loss-Function}$ ${L({y}_i,F({x}))}$."
   ]
  },
  {
   "cell_type": "markdown",
   "metadata": {},
   "source": [
    "${Step-[1]}$: Iinitialize model with a constant value."
   ]
  },
  {
   "cell_type": "markdown",
   "metadata": {},
   "source": [
    "\\begin{equation}\n",
    "F_{0}(x) = \\underset{\\gamma}{\\mathrm{argmin}}\\sum_{i=1}^{N}L({y}_i,{\\gamma})\n",
    "\\end{equation}"
   ]
  },
  {
   "cell_type": "markdown",
   "metadata": {},
   "source": [
    "${Step-[2]}$: for ${m=1}$ to ${M}$:"
   ]
  },
  {
   "cell_type": "markdown",
   "metadata": {},
   "source": [
    "${[A]}$ -  compute."
   ]
  },
  {
   "cell_type": "markdown",
   "metadata": {},
   "source": [
    "\\begin{equation}\n",
    "r_{im} = -[\\frac{\\partial L({y}_i,F({x}_i))}{\\partial F({x}_i)}]_{F(x) = F_{m-1}(x)}\n",
    "\\end{equation}"
   ]
  },
  {
   "cell_type": "markdown",
   "metadata": {},
   "source": [
    "${[B]}-$ fit a Regression tree to the ${r_{im}}$ values and create terminal regions ${R_{jm}}$, for ${j}$=${1.....j_{m}}$."
   ]
  },
  {
   "cell_type": "markdown",
   "metadata": {},
   "source": [
    "${[C]}$- for ${j}$ = ${1.....j_{m}}$ compute."
   ]
  },
  {
   "cell_type": "markdown",
   "metadata": {},
   "source": [
    "\\begin{equation}\n",
    "{\\gamma} = \\underset{\\gamma}{\\mathrm{argmin}}\\sum_{x_{i}\\in{R_{ij}}}L({y}_i,F_{m-1}({x}_i) + {\\gamma})\n",
    "\\end{equation}"
   ]
  },
  {
   "cell_type": "markdown",
   "metadata": {},
   "source": [
    "${[D]}$ - Update."
   ]
  },
  {
   "cell_type": "markdown",
   "metadata": {},
   "source": [
    "\\begin{equation}\n",
    "F_{m}(x) = F_{m-1}(x) + {\\mu}\\sum_{j=1}^{j_{m}}{\\gamma_{m}}I(x\\in{R_{jm}})\n",
    "\\end{equation}"
   ]
  },
  {
   "cell_type": "markdown",
   "metadata": {},
   "source": [
    "${Step}$ - Output ${F_{m}(x)}$."
   ]
  },
  {
   "cell_type": "code",
   "execution_count": null,
   "metadata": {},
   "outputs": [],
   "source": []
  }
 ],
 "metadata": {
  "kernelspec": {
   "display_name": "Python 3",
   "language": "python",
   "name": "python3"
  },
  "language_info": {
   "codemirror_mode": {
    "name": "ipython",
    "version": 3
   },
   "file_extension": ".py",
   "mimetype": "text/x-python",
   "name": "python",
   "nbconvert_exporter": "python",
   "pygments_lexer": "ipython3",
   "version": "3.7.3"
  }
 },
 "nbformat": 4,
 "nbformat_minor": 2
}
